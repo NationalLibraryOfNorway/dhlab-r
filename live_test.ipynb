{
 "cells": [
  {
   "cell_type": "code",
   "execution_count": 1,
   "id": "068331a4-57e9-4d0b-aca8-1f11a9c05209",
   "metadata": {},
   "outputs": [
    {
     "name": "stderr",
     "output_type": "stream",
     "text": [
      "Loading required package: usethis\n",
      "\n"
     ]
    }
   ],
   "source": [
    "library(devtools)"
   ]
  },
  {
   "cell_type": "code",
   "execution_count": 2,
   "id": "2a0b32c8-3b65-4b88-9aec-1c916b699cc3",
   "metadata": {},
   "outputs": [
    {
     "name": "stderr",
     "output_type": "stream",
     "text": [
      "\u001b[1m\u001b[22m\u001b[36mℹ\u001b[39m Loading \u001b[34mdhlab-r\u001b[39m\n"
     ]
    }
   ],
   "source": [
    "load_all()"
   ]
  },
  {
   "cell_type": "code",
   "execution_count": 3,
   "id": "7590f2c8-29f3-44c6-934b-340a6975be50",
   "metadata": {},
   "outputs": [],
   "source": [
    "library(httr)"
   ]
  },
  {
   "cell_type": "code",
   "execution_count": 6,
   "id": "6d0f920e-4f2a-48e0-bca6-ef093b0bf297",
   "metadata": {},
   "outputs": [],
   "source": [
    "df = get_document_corpus()"
   ]
  },
  {
   "cell_type": "code",
   "execution_count": null,
   "id": "1c5cef76-f6cc-4758-b611-40ca77dc7532",
   "metadata": {},
   "outputs": [],
   "source": []
  },
  {
   "cell_type": "code",
   "execution_count": 7,
   "id": "bff131b3-a65b-4efc-8a6c-bd4f75f661f3",
   "metadata": {},
   "outputs": [
    {
     "data": {
      "text/html": [
       "<table class=\"dataframe\">\n",
       "<caption>A data.frame: 4 × 3</caption>\n",
       "<thead>\n",
       "\t<tr><th></th><th scope=col>docid</th><th scope=col>urn</th><th scope=col>conc</th></tr>\n",
       "\t<tr><th></th><th scope=col>&lt;named list&gt;</th><th scope=col>&lt;named list&gt;</th><th scope=col>&lt;named list&gt;</th></tr>\n",
       "</thead>\n",
       "<tbody>\n",
       "\t<tr><th scope=row>19</th><td>100171297</td><td>URN:NBN:no-nb_digibok_2013092508063</td><td>... Det vil også bli sett på utviklingen i mødres &lt;b&gt;arbeidsdeltakelse&lt;/b&gt; og valg av barnepass avhengig av deres sosiale bakgrunn ,... </td></tr>\n",
       "\t<tr><th scope=row>15</th><td>100602840</td><td>URN:NBN:no-nb_digibok_2022010507516</td><td>... parfymen hans og forestilte meg en leilighet og et &lt;b&gt;arbeidsrom&lt;/b&gt; , møbler og en stor LP-samling som fylte hele den... </td></tr>\n",
       "\t<tr><th scope=row>11</th><td>100585237</td><td>URN:NBN:no-nb_digibok_2021101248014</td><td>... Jeg skifter til &lt;b&gt;arbeidsantrekk&lt;/b&gt; og begynner å vaske huset , tørker støv , polerer og mopper gulvene .</td></tr>\n",
       "\t<tr><th scope=row>3</th><td>100196799</td><td>URN:NBN:no-nb_digibok_2014030506004</td><td>... I dette &lt;b&gt;arbeidet&lt;/b&gt; vurderes muligheten for å utvide aldersgrensen opp til fylte 25 år . I tillegg utredes muligheten for... </td></tr>\n",
       "</tbody>\n",
       "</table>\n"
      ],
      "text/latex": [
       "A data.frame: 4 × 3\n",
       "\\begin{tabular}{r|lll}\n",
       "  & docid & urn & conc\\\\\n",
       "  & <named list> & <named list> & <named list>\\\\\n",
       "\\hline\n",
       "\t19 & 100171297 & URN:NBN:no-nb\\_digibok\\_2013092508063 & ... Det vil også bli sett på utviklingen i mødres <b>arbeidsdeltakelse</b> og valg av barnepass avhengig av deres sosiale bakgrunn ,... \\\\\n",
       "\t15 & 100602840 & URN:NBN:no-nb\\_digibok\\_2022010507516 & ... parfymen hans og forestilte meg en leilighet og et <b>arbeidsrom</b> , møbler og en stor LP-samling som fylte hele den... \\\\\n",
       "\t11 & 100585237 & URN:NBN:no-nb\\_digibok\\_2021101248014 & ... Jeg skifter til <b>arbeidsantrekk</b> og begynner å vaske huset , tørker støv , polerer og mopper gulvene .\\\\\n",
       "\t3 & 100196799 & URN:NBN:no-nb\\_digibok\\_2014030506004 & ... I dette <b>arbeidet</b> vurderes muligheten for å utvide aldersgrensen opp til fylte 25 år . I tillegg utredes muligheten for... \\\\\n",
       "\\end{tabular}\n"
      ],
      "text/markdown": [
       "\n",
       "A data.frame: 4 × 3\n",
       "\n",
       "| <!--/--> | docid &lt;named list&gt; | urn &lt;named list&gt; | conc &lt;named list&gt; |\n",
       "|---|---|---|---|\n",
       "| 19 | 100171297 | URN:NBN:no-nb_digibok_2013092508063 | ... Det vil også bli sett på utviklingen i mødres &lt;b&gt;arbeidsdeltakelse&lt;/b&gt; og valg av barnepass avhengig av deres sosiale bakgrunn ,...  |\n",
       "| 15 | 100602840 | URN:NBN:no-nb_digibok_2022010507516 | ... parfymen hans og forestilte meg en leilighet og et &lt;b&gt;arbeidsrom&lt;/b&gt; , møbler og en stor LP-samling som fylte hele den...  |\n",
       "| 11 | 100585237 | URN:NBN:no-nb_digibok_2021101248014 | ... Jeg skifter til &lt;b&gt;arbeidsantrekk&lt;/b&gt; og begynner å vaske huset , tørker støv , polerer og mopper gulvene . |\n",
       "| 3 | 100196799 | URN:NBN:no-nb_digibok_2014030506004 | ... I dette &lt;b&gt;arbeidet&lt;/b&gt; vurderes muligheten for å utvide aldersgrensen opp til fylte 25 år . I tillegg utredes muligheten for...  |\n",
       "\n"
      ],
      "text/plain": [
       "   docid     urn                                \n",
       "19 100171297 URN:NBN:no-nb_digibok_2013092508063\n",
       "15 100602840 URN:NBN:no-nb_digibok_2022010507516\n",
       "11 100585237 URN:NBN:no-nb_digibok_2021101248014\n",
       "3  100196799 URN:NBN:no-nb_digibok_2014030506004\n",
       "   conc                                                                                                                                    \n",
       "19 ... Det vil også bli sett på utviklingen i mødres <b>arbeidsdeltakelse</b> og valg av barnepass avhengig av deres sosiale bakgrunn ,... \n",
       "15 ... parfymen hans og forestilte meg en leilighet og et <b>arbeidsrom</b> , møbler og en stor LP-samling som fylte hele den...           \n",
       "11 ... Jeg skifter til <b>arbeidsantrekk</b> og begynner å vaske huset , tørker støv , polerer og mopper gulvene .                         \n",
       "3  ... I dette <b>arbeidet</b> vurderes muligheten for å utvide aldersgrensen opp til fylte 25 år . I tillegg utredes muligheten for...    "
      ]
     },
     "metadata": {},
     "output_type": "display_data"
    }
   ],
   "source": [
    "get_concordance(df, \"arbeid*\", limit=4)"
   ]
  },
  {
   "cell_type": "code",
   "execution_count": 8,
   "id": "d9e69967-a0da-4bf9-a649-f54c5e68cf63",
   "metadata": {},
   "outputs": [
    {
     "ename": "ERROR",
     "evalue": "Error in eval(expr, envir, enclos): object 'conc' not found\n",
     "output_type": "error",
     "traceback": [
      "Error in eval(expr, envir, enclos): object 'conc' not found\nTraceback:\n"
     ]
    }
   ],
   "source": [
    "names(conc)"
   ]
  },
  {
   "cell_type": "code",
   "execution_count": null,
   "id": "37053514-91e4-4d66-93ef-c8151d9dc516",
   "metadata": {},
   "outputs": [],
   "source": []
  }
 ],
 "metadata": {
  "kernelspec": {
   "display_name": "R",
   "language": "R",
   "name": "ir"
  },
  "language_info": {
   "codemirror_mode": "r",
   "file_extension": ".r",
   "mimetype": "text/x-r-source",
   "name": "R",
   "pygments_lexer": "r",
   "version": "4.1.2"
  }
 },
 "nbformat": 4,
 "nbformat_minor": 5
}
