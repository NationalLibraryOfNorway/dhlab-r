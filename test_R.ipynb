{
 "cells": [
  {
   "cell_type": "markdown",
   "id": "837f1ece-0ac0-4434-8901-fffcac4301c2",
   "metadata": {},
   "source": [
    "# Installing devtools -- hmmm"
   ]
  },
  {
   "cell_type": "markdown",
   "id": "8c0e0f61-a0cc-4469-870f-00f747af1e69",
   "metadata": {},
   "source": [
    "install.packages('git2r') \n",
    "\n",
    "install.packages('gert')\n",
    "\n",
    "install.packages('usethis')\n",
    "\n",
    "install.packages('systemfonts')\n",
    "\n",
    "install.packages('textshaping')\n",
    "\n",
    "install.packages('devtools')"
   ]
  },
  {
   "cell_type": "code",
   "execution_count": null,
   "id": "56f75686-f84d-424c-8b84-3f57b21e3179",
   "metadata": {},
   "outputs": [],
   "source": []
  },
  {
   "cell_type": "code",
   "execution_count": 128,
   "id": "d348b241-4ac5-436f-a681-746b6f9f4909",
   "metadata": {},
   "outputs": [],
   "source": [
    "library(devtools)"
   ]
  },
  {
   "cell_type": "code",
   "execution_count": 129,
   "id": "fabd4805-2d33-4dbf-be1b-332091ca6039",
   "metadata": {},
   "outputs": [
    {
     "name": "stderr",
     "output_type": "stream",
     "text": [
      "\u001b[1m\u001b[22m\u001b[36mℹ\u001b[39m Loading \u001b[34mdhlab-r\u001b[39m\n"
     ]
    }
   ],
   "source": [
    "load_all()"
   ]
  },
  {
   "cell_type": "code",
   "execution_count": 142,
   "id": "2ec6d6f6-8405-4c1c-ad53-36592c717c37",
   "metadata": {},
   "outputs": [],
   "source": [
    "df = get_document_corpus()"
   ]
  },
  {
   "cell_type": "code",
   "execution_count": 148,
   "id": "1ffa3355-0477-4fea-b84d-45971f469fde",
   "metadata": {},
   "outputs": [
    {
     "data": {
      "text/html": [
       "TRUE"
      ],
      "text/latex": [
       "TRUE"
      ],
      "text/markdown": [
       "TRUE"
      ],
      "text/plain": [
       "[1] TRUE"
      ]
     },
     "metadata": {},
     "output_type": "display_data"
    }
   ],
   "source": [
    "is.data.frame(df)"
   ]
  },
  {
   "cell_type": "code",
   "execution_count": 143,
   "id": "7c3a8a45-e342-4976-a2fe-3a7bd50531c6",
   "metadata": {},
   "outputs": [],
   "source": [
    "freq = get_document_frequencies(unname(df$'urn'), cutoff = 0, words=list('.',','))"
   ]
  },
  {
   "cell_type": "code",
   "execution_count": 149,
   "id": "e05a15d1-b209-4495-9fe6-dc994a3d88db",
   "metadata": {},
   "outputs": [
    {
     "data": {
      "text/html": [
       "FALSE"
      ],
      "text/latex": [
       "FALSE"
      ],
      "text/markdown": [
       "FALSE"
      ],
      "text/plain": [
       "[1] FALSE"
      ]
     },
     "metadata": {},
     "output_type": "display_data"
    }
   ],
   "source": [
    "is.data.frame(df$'urn')"
   ]
  },
  {
   "cell_type": "code",
   "execution_count": null,
   "id": "c059b148-204d-4ff5-b6c7-d31f440fdab2",
   "metadata": {},
   "outputs": [],
   "source": []
  }
 ],
 "metadata": {
  "kernelspec": {
   "display_name": "R",
   "language": "R",
   "name": "ir"
  },
  "language_info": {
   "codemirror_mode": "r",
   "file_extension": ".r",
   "mimetype": "text/x-r-source",
   "name": "R",
   "pygments_lexer": "r",
   "version": "4.1.2"
  }
 },
 "nbformat": 4,
 "nbformat_minor": 5
}
