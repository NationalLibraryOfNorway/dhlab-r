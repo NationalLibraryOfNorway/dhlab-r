{
 "cells": [
  {
   "cell_type": "markdown",
   "id": "837f1ece-0ac0-4434-8901-fffcac4301c2",
   "metadata": {},
   "source": [
    "# Installing devtools -- hmmm"
   ]
  },
  {
   "cell_type": "markdown",
   "id": "8c0e0f61-a0cc-4469-870f-00f747af1e69",
   "metadata": {},
   "source": [
    "install.packages('git2r') \n",
    "\n",
    "install.packages('gert')\n",
    "\n",
    "install.packages('usethis')\n",
    "\n",
    "install.packages('systemfonts')\n",
    "\n",
    "install.packages('textshaping')\n",
    "\n",
    "install.packages('devtools')"
   ]
  },
  {
   "cell_type": "code",
   "execution_count": null,
   "id": "56f75686-f84d-424c-8b84-3f57b21e3179",
   "metadata": {},
   "outputs": [],
   "source": []
  },
  {
   "cell_type": "code",
   "execution_count": 28,
   "id": "d348b241-4ac5-436f-a681-746b6f9f4909",
   "metadata": {},
   "outputs": [
    {
     "name": "stderr",
     "output_type": "stream",
     "text": [
      "Loading required package: usethis\n",
      "\n"
     ]
    }
   ],
   "source": [
    "library(devtools)"
   ]
  },
  {
   "cell_type": "code",
   "execution_count": 33,
   "id": "fabd4805-2d33-4dbf-be1b-332091ca6039",
   "metadata": {},
   "outputs": [
    {
     "name": "stderr",
     "output_type": "stream",
     "text": [
      "\u001b[1m\u001b[22m\u001b[36mℹ\u001b[39m Loading \u001b[34mdhlab-r\u001b[39m\n"
     ]
    }
   ],
   "source": [
    "load_all()"
   ]
  },
  {
   "cell_type": "code",
   "execution_count": null,
   "id": "2ec6d6f6-8405-4c1c-ad53-36592c717c37",
   "metadata": {},
   "outputs": [],
   "source": [
    "get_concordane()"
   ]
  }
 ],
 "metadata": {
  "kernelspec": {
   "display_name": "R",
   "language": "R",
   "name": "ir"
  },
  "language_info": {
   "codemirror_mode": "r",
   "file_extension": ".r",
   "mimetype": "text/x-r-source",
   "name": "R",
   "pygments_lexer": "r",
   "version": "4.1.2"
  }
 },
 "nbformat": 4,
 "nbformat_minor": 5
}
