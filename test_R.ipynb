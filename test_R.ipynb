{
 "cells": [
  {
   "cell_type": "markdown",
   "id": "837f1ece-0ac0-4434-8901-fffcac4301c2",
   "metadata": {},
   "source": [
    "# Example"
   ]
  },
  {
   "cell_type": "code",
   "execution_count": null,
   "id": "56f75686-f84d-424c-8b84-3f57b21e3179",
   "metadata": {},
   "outputs": [],
   "source": [
    "library(devtools)\n",
    "library(httr)\n",
    "library(jsonlite)\n",
    "library(ggplot2)\n",
    "library(stringr)"
   ]
  },
  {
   "cell_type": "code",
   "execution_count": null,
   "id": "fabd4805-2d33-4dbf-be1b-332091ca6039",
   "metadata": {},
   "outputs": [],
   "source": [
    "load_all()"
   ]
  },
  {
   "cell_type": "code",
   "execution_count": null,
   "id": "95739226",
   "metadata": {},
   "outputs": [],
   "source": [
    "ngram <- get_ngram_from_books()"
   ]
  },
  {
   "cell_type": "code",
   "execution_count": null,
   "id": "f131b2b0",
   "metadata": {},
   "outputs": [],
   "source": [
    "ngram[c('word', 'year')] <- str_split_fixed(ngram$ind, ' ', 2)\n",
    "ngram['freq'] <- ngram$values\n",
    "ngram <- subset(ngram, select = -c(ind, values))\n",
    "ngram$year <- as.integer(unlist(ngram$year))\n",
    "ggplot(ngram) + geom_point(aes(x = year, y= freq, color = word))"
   ]
  },
  {
   "cell_type": "code",
   "execution_count": null,
   "id": "2ec6d6f6-8405-4c1c-ad53-36592c717c37",
   "metadata": {},
   "outputs": [],
   "source": [
    "corpus = get_document_corpus()"
   ]
  },
  {
   "cell_type": "code",
   "execution_count": null,
   "id": "59c06ddd",
   "metadata": {},
   "outputs": [],
   "source": [
    "corpus"
   ]
  },
  {
   "cell_type": "code",
   "execution_count": null,
   "id": "7c3a8a45-e342-4976-a2fe-3a7bd50531c6",
   "metadata": {},
   "outputs": [],
   "source": [
    "freq = get_document_frequencies(unname(corpus$'urn'), cutoff = 0, words=list('.',','))"
   ]
  },
  {
   "cell_type": "code",
   "execution_count": null,
   "id": "956efbfa",
   "metadata": {},
   "outputs": [],
   "source": [
    "df <- as.data.frame(do.call(rbind, my_nested_list))"
   ]
  },
  {
   "cell_type": "code",
   "execution_count": null,
   "id": "48975276",
   "metadata": {},
   "outputs": [],
   "source": [
    "df"
   ]
  },
  {
   "cell_type": "code",
   "execution_count": null,
   "id": "e88695ed",
   "metadata": {},
   "outputs": [],
   "source": [
    "colnames(df) = c(\"dhlabid\", \"word\", \"freq\", \"tot_doc_f\")"
   ]
  },
  {
   "cell_type": "code",
   "execution_count": null,
   "id": "bb98315b",
   "metadata": {},
   "outputs": [],
   "source": [
    "df"
   ]
  }
 ],
 "metadata": {
  "kernelspec": {
   "display_name": "R",
   "language": "R",
   "name": "ir"
  },
  "language_info": {
   "codemirror_mode": "r",
   "file_extension": ".r",
   "mimetype": "text/x-r-source",
   "name": "R",
   "pygments_lexer": "r",
   "version": "4.2.2"
  }
 },
 "nbformat": 4,
 "nbformat_minor": 5
}
